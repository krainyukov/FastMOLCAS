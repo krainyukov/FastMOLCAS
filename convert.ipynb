{
 "cells": [
  {
   "cell_type": "code",
   "execution_count": 26,
   "metadata": {},
   "outputs": [],
   "source": [
    "from pymatgen.core import Structure\n",
    "\n",
    "def cif_to_xyz(cif_filename, xyz_filename, translation):\n",
    "    # Загружаем структуру из CIF файла\n",
    "    structure = Structure.from_file(cif_filename)\n",
    "    \n",
    "    # Получаем декартовы координаты\n",
    "    cartesian_coords = structure.cart_coords\n",
    "    species = structure.species  # Получаем сорт атомов\n",
    "\n",
    "    # Применяем трансляцию\n",
    "    translated_coords = cartesian_coords + translation\n",
    "\n",
    "    # Сохраняем структуру в XYZ файл\n",
    "    with open(xyz_filename, 'w') as xyz_file:\n",
    "        xyz_file.write(f\"{len(translated_coords)}\\n\")\n",
    "        xyz_file.write(\"Декартовы координаты\\n\")\n",
    "        for i, coord in enumerate(translated_coords):\n",
    "            # Записываем сорт атома и его координаты\n",
    "            xyz_file.write(f\"{species[i]} {coord[0]} {coord[1]} {coord[2]}\\n\")\n",
    "\n",
    "# Пример использования\n",
    "filename = '801063'\n",
    "translation_vector = [1.0, 2.0, 3.0]  # Пример трансляции вдоль a, b и c\n",
    "cif_to_xyz(f'./master/stuctures/{filename}.cif', f'./master/stuctures/{filename}.xyz', translation_vector)"
   ]
  },
  {
   "cell_type": "code",
   "execution_count": null,
   "metadata": {},
   "outputs": [],
   "source": []
  }
 ],
 "metadata": {
  "kernelspec": {
   "display_name": "Python 3",
   "language": "python",
   "name": "python3"
  },
  "language_info": {
   "codemirror_mode": {
    "name": "ipython",
    "version": 3
   },
   "file_extension": ".py",
   "mimetype": "text/x-python",
   "name": "python",
   "nbconvert_exporter": "python",
   "pygments_lexer": "ipython3",
   "version": "3.9.6"
  }
 },
 "nbformat": 4,
 "nbformat_minor": 2
}
